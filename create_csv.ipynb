{
 "cells": [
  {
   "cell_type": "code",
   "execution_count": null,
   "id": "daily-crazy",
   "metadata": {},
   "outputs": [],
   "source": [
    "import csv\n",
    "\n",
    "# Train CSV\n",
    "with open('train.csv', mode='w', newline='') as file:\n",
    "    for i in range(1, 2146):\n",
    "        data = [str(i) + '.jpg', '1']\n",
    "        writer = csv.writer(file)\n",
    "        writer.writerow(data)\n",
    "    for i in range(2146, 4839):\n",
    "        data = [str(i) + '.jpg', '0']\n",
    "        writer = csv.writer(file)\n",
    "        writer.writerow(data)\n",
    "\n",
    "# Test CSV\n",
    "with open('test.csv', mode='w', newline='') as file:\n",
    "    for i in range(1, 537):\n",
    "        data = [str(i) + '.jpg', '1']\n",
    "        writer = csv.writer(file)\n",
    "        writer.writerow(data)\n",
    "    for i in range(537, 1210):\n",
    "        data = [str(i) + '.jpg', '0']\n",
    "        writer = csv.writer(file)\n",
    "        writer.writerow(data)\n"
   ]
  }
 ],
 "metadata": {
  "kernelspec": {
   "display_name": "Python 3",
   "language": "python",
   "name": "python3"
  },
  "language_info": {
   "codemirror_mode": {
    "name": "ipython",
    "version": 3
   },
   "file_extension": ".py",
   "mimetype": "text/x-python",
   "name": "python",
   "nbconvert_exporter": "python",
   "pygments_lexer": "ipython3",
   "version": "3.8.8"
  }
 },
 "nbformat": 4,
 "nbformat_minor": 5
}
