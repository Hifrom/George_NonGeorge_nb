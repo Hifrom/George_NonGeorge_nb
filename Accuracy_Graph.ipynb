{
 "cells": [
  {
   "cell_type": "code",
   "execution_count": null,
   "id": "applied-habitat",
   "metadata": {},
   "outputs": [],
   "source": [
    "import matplotlib.pyplot as plt\n",
    "\n",
    "#Draw Graphs of Training\n",
    "path_txt = 'models/resnet_True/log_95.txt'\n",
    "file = open(path_txt)\n",
    "max_accuracy = -1\n",
    "min_error = 9\n",
    "num_epoch = 0\n",
    "epoch = []\n",
    "train_accuracy = []\n",
    "test_accuracy = []\n",
    "mean_loss = []\n",
    "for line in file:\n",
    "    if line[0] == '*':\n",
    "        epoch.append(int(num_epoch))\n",
    "        num_epoch += 1\n",
    "    if line[1] == 'r':\n",
    "        train_accuracy.append(float(line[16:-3]))\n",
    "    if line[2] == 's':\n",
    "        test_accuracy.append(float(line[15:-3]))\n",
    "        if (float(line[15:-3])) > max_accuracy:\n",
    "            max_accuracy = float(float(line[15:-3]))\n",
    "            epoch_max_accuracy = num_epoch\n",
    "    if line[0] == 'M':\n",
    "        mean_loss.append(float(line[11:-2]))\n",
    "        if float(line[11:-1]) < min_error:\n",
    "            min_error = float(line[11:-2])\n",
    "            epoch_min_error = num_epoch\n",
    "file.close()\n",
    "# print(epoch)\n",
    "# print(train_accuracy)\n",
    "# print(test_accuracy)\n",
    "# print(mean_loss)\n",
    "print('Max Test Accuracy: {0} on Epoch № {1}'.format(max_accuracy, epoch_max_accuracy))\n",
    "print('Min Error: {0} on Epoch № {1}'.format(min_error, epoch_min_error))\n",
    "leg1 = ['Train Acc.', 'Test Acc.']\n",
    "leg2 = ['Mean Loss']\n",
    "\n",
    "plt.figure(1)\n",
    "plt.subplot(211)\n",
    "plt.plot(epoch, train_accuracy)\n",
    "plt.plot(epoch, test_accuracy)\n",
    "plt.legend(leg1)\n",
    "plt.ylabel('mAP')\n",
    "\n",
    "plt.subplot(212)\n",
    "plt.plot(epoch, mean_loss)\n",
    "plt.legend(leg2)\n",
    "plt.xlabel('Epoch')\n",
    "plt.ylabel('Error')\n",
    "plt.show()"
   ]
  }
 ],
 "metadata": {
  "kernelspec": {
   "display_name": "Python 3",
   "language": "python",
   "name": "python3"
  },
  "language_info": {
   "codemirror_mode": {
    "name": "ipython",
    "version": 3
   },
   "file_extension": ".py",
   "mimetype": "text/x-python",
   "name": "python",
   "nbconvert_exporter": "python",
   "pygments_lexer": "ipython3",
   "version": "3.8.8"
  }
 },
 "nbformat": 4,
 "nbformat_minor": 5
}
