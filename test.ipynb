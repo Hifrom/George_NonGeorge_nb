{
 "cells": [
  {
   "cell_type": "code",
   "execution_count": null,
   "id": "known-january",
   "metadata": {},
   "outputs": [],
   "source": [
    "import torch\n",
    "from torchvision import models\n",
    "import torch.nn as nn\n",
    "import cv2\n",
    "\n",
    "PATH = 'models/resnet_True/Best_95.pth'\n",
    "if torch.cuda.is_available():\n",
    "    device = 'cuda'\n",
    "else:\n",
    "    device = 'cpu'\n",
    "model = models.resnet50(pretrained=True).to(device)\n",
    "model.fc = nn.Sequential(nn.Linear(2048, 1), nn.Sigmoid()).to(device)\n",
    "model.load_state_dict(torch.load(PATH))\n",
    "model.eval()\n",
    "\n",
    "# Choose your final value\n",
    "for i in range(1, 2000):\n",
    "    image_np = cv2.imread('data/test/' + str(i) + '.jpg')\n",
    "    image_torch = torch.from_numpy(image_np).unsqueeze(1).permute(1, 3, 0, 2).float()\n",
    "    image_torch = image_torch.to(device) / 255.0\n",
    "    out = model.forward(image_torch)\n",
    "    if out.item() >= 0.5:\n",
    "        print('George')\n",
    "    else:\n",
    "        print('Non-George')\n",
    "    cv2.imshow('111', image_np)\n",
    "    cv2.waitKey()\n"
   ]
  }
 ],
 "metadata": {
  "kernelspec": {
   "display_name": "Python 3",
   "language": "python",
   "name": "python3"
  },
  "language_info": {
   "codemirror_mode": {
    "name": "ipython",
    "version": 3
   },
   "file_extension": ".py",
   "mimetype": "text/x-python",
   "name": "python",
   "nbconvert_exporter": "python",
   "pygments_lexer": "ipython3",
   "version": "3.8.8"
  }
 },
 "nbformat": 4,
 "nbformat_minor": 5
}
